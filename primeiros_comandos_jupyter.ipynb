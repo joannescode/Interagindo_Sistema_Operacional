{
 "cells": [
  {
   "cell_type": "code",
   "execution_count": null,
   "metadata": {},
   "outputs": [],
   "source": [
    "# importanto biblioteca OS e verificando sistema operacional:\n",
    "import os\n",
    "os.name # nt\n",
    "import platform\n",
    "platform.system()\n",
    "if(A == 'Windows'):\n",
    "    print('Melhor SO!')"
   ]
  },
  {
   "cell_type": "code",
   "execution_count": null,
   "metadata": {},
   "outputs": [],
   "source": [
    "# informando configurações e caminhos da máquina:\n",
    "os.environ"
   ]
  },
  {
   "cell_type": "code",
   "execution_count": null,
   "metadata": {},
   "outputs": [],
   "source": [
    "# informando o id do processo atual:\n",
    "os.getpid()"
   ]
  },
  {
   "cell_type": "code",
   "execution_count": null,
   "metadata": {},
   "outputs": [],
   "source": [
    "# informando o meu caminho atual:\n",
    "os.getcwd()"
   ]
  },
  {
   "cell_type": "code",
   "execution_count": null,
   "metadata": {},
   "outputs": [],
   "source": [
    "# informações do arquivo atual: **__file__**\n",
    "# nome do arquivo: **os.path.basename()**\n",
    "# nome da pasta: **os.path.dirname()**\n",
    "# caminho absoluto **os.path.abspath()**\n",
    "\n",
    "import os\n",
    "\n",
    "# Arquivo atual:\n",
    "print(\"Arquivo atual:\",__file__)\n",
    "\n",
    "# Nome do arquivo:\n",
    "print(\"Nome do arquivo atual:\", os.path.basename(__file__))\n",
    "\n",
    "# Pasta do arquivo:\n",
    "print(\"Pasta do arquivo:\",os.path.dirname(__file__))\n",
    "\n",
    "# Pasta abslouta:\n",
    "print(\"Caminho absoluto do arquivo:\", os.path.abspath(__file__))\n"
   ]
  },
  {
   "cell_type": "code",
   "execution_count": null,
   "metadata": {},
   "outputs": [],
   "source": [
    "# listar um diretório: **os.listdir()**. Utilizar parâmetro de caminho a ser listado.\n",
    "os.listdir()"
   ]
  }
 ],
 "metadata": {
  "kernelspec": {
   "display_name": "Python 3.10.7 64-bit",
   "language": "python",
   "name": "python3"
  },
  "language_info": {
   "codemirror_mode": {
    "name": "ipython",
    "version": 3
   },
   "file_extension": ".py",
   "mimetype": "text/x-python",
   "name": "python",
   "nbconvert_exporter": "python",
   "pygments_lexer": "ipython3",
   "version": "3.10.7"
  },
  "orig_nbformat": 4,
  "vscode": {
   "interpreter": {
    "hash": "0f4aad36e1a7834f44c14e84b98527cfbefef55e7a336cfec74130d804d73c8f"
   }
  }
 },
 "nbformat": 4,
 "nbformat_minor": 2
}
