{
 "cells": [
  {
   "cell_type": "code",
   "execution_count": 11,
   "metadata": {},
   "outputs": [
    {
     "name": "stdout",
     "output_type": "stream",
     "text": [
      "Melhor SO!\n"
     ]
    }
   ],
   "source": [
    "import os\n",
    "os.name # nt\n",
    "import platform\n",
    "A = platform.system()\n",
    "if(A == 'Windows'):\n",
    "    print('Melhor SO!')"
   ]
  },
  {
   "cell_type": "code",
   "execution_count": 12,
   "metadata": {},
   "outputs": [
    {
     "name": "stdout",
     "output_type": "stream",
     "text": [
      "Feito✅\n"
     ]
    }
   ],
   "source": [
    "diretorio = 'Desafio'\n",
    "\n",
    "if not os.path.exists(diretorio):\n",
    "    os.mkdir(diretorio)\n",
    "    print('Feito✅')\n",
    "else:\n",
    "    print('Pasta já existente❌')\n",
    "\n",
    "for i in range(1,11):\n",
    "    if not os.path.exists(diretorio+'\\\\pasta_'+str(i)):\n",
    "        os.mkdir(diretorio+'\\\\pasta_'+str(i))\n",
    "    for j in range(1,11):\n",
    "        open(diretorio+'\\\\pasta_'+str(i)+'\\\\arquivo_'+str(j)+'.txt','w+') "
   ]
  }
 ],
 "metadata": {
  "kernelspec": {
   "display_name": "Python 3.10.7 64-bit",
   "language": "python",
   "name": "python3"
  },
  "language_info": {
   "codemirror_mode": {
    "name": "ipython",
    "version": 3
   },
   "file_extension": ".py",
   "mimetype": "text/x-python",
   "name": "python",
   "nbconvert_exporter": "python",
   "pygments_lexer": "ipython3",
   "version": "3.10.7"
  },
  "orig_nbformat": 4,
  "vscode": {
   "interpreter": {
    "hash": "0f4aad36e1a7834f44c14e84b98527cfbefef55e7a336cfec74130d804d73c8f"
   }
  }
 },
 "nbformat": 4,
 "nbformat_minor": 2
}
