{
 "cells": [
  {
   "cell_type": "code",
   "execution_count": 12,
   "metadata": {},
   "outputs": [
    {
     "data": {
      "text/plain": [
       "'Windows'"
      ]
     },
     "execution_count": 12,
     "metadata": {},
     "output_type": "execute_result"
    }
   ],
   "source": [
    "# importando biblioteca OS e verificando sistema operacional:\n",
    "import os\n",
    "os.name # nt\n",
    "import platform\n",
    "platform.system()\n",
    "if(A == 'Windows'):\n",
    "    print('Melhor SO!')"
   ]
  },
  {
   "cell_type": "code",
   "execution_count": 13,
   "metadata": {},
   "outputs": [],
   "source": [
    "# para criar uma pasta usamos o comando os.mkdir()\n",
    "# Não é possível criar pastas com o mesmo nome (duplicada)!\n",
    "os.mkdir('A')"
   ]
  },
  {
   "cell_type": "code",
   "execution_count": 14,
   "metadata": {},
   "outputs": [],
   "source": [
    "os.mkdir('A\\\\A1')\n",
    "os.mkdir('A\\\\B1')"
   ]
  },
  {
   "cell_type": "code",
   "execution_count": 15,
   "metadata": {},
   "outputs": [],
   "source": [
    "os.makedirs('A\\\\A1\\\\arquivo.txt')"
   ]
  },
  {
   "cell_type": "code",
   "execution_count": 16,
   "metadata": {},
   "outputs": [],
   "source": [
    "# para renomear um arquivo ou diretório utilizamos a função **os.reanme()**\n",
    "# utilizamos dois parâmetros, sendo: Source (Fonte/Origem), Destinaion(Destino):\n",
    "\n",
    "os.rename('A\\\\B1', 'A\\\\B-1')"
   ]
  },
  {
   "cell_type": "code",
   "execution_count": 17,
   "metadata": {},
   "outputs": [],
   "source": [
    "# conseguimos mover um arquivo ou diretório com a função **os.rename()**:\n",
    "os.rename('A\\\\A1\\\\arquivo.txt', 'A\\\\B-1\\\\arquivo.txt')"
   ]
  }
 ],
 "metadata": {
  "kernelspec": {
   "display_name": "Python 3.10.7 64-bit",
   "language": "python",
   "name": "python3"
  },
  "language_info": {
   "codemirror_mode": {
    "name": "ipython",
    "version": 3
   },
   "file_extension": ".py",
   "mimetype": "text/x-python",
   "name": "python",
   "nbconvert_exporter": "python",
   "pygments_lexer": "ipython3",
   "version": "3.10.7"
  },
  "orig_nbformat": 4,
  "vscode": {
   "interpreter": {
    "hash": "0f4aad36e1a7834f44c14e84b98527cfbefef55e7a336cfec74130d804d73c8f"
   }
  }
 },
 "nbformat": 4,
 "nbformat_minor": 2
}
