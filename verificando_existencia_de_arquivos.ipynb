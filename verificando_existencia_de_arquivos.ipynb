{
 "cells": [
  {
   "cell_type": "code",
   "execution_count": 112,
   "metadata": {},
   "outputs": [
    {
     "name": "stdout",
     "output_type": "stream",
     "text": [
      "Melhor SO!\n"
     ]
    }
   ],
   "source": [
    "# importando biblioteca OS e verificando sistema operacional:\n",
    "import os\n",
    "os.name # nt\n",
    "import platform\n",
    "A = platform.system()\n",
    "if(A == 'Windows'):\n",
    "    print('Melhor SO!')"
   ]
  },
  {
   "cell_type": "code",
   "execution_count": 113,
   "metadata": {},
   "outputs": [
    {
     "name": "stdout",
     "output_type": "stream",
     "text": [
      "Pasta já existente❌\n",
      "Pasta já existente❌\n"
     ]
    }
   ],
   "source": [
    "# verificando existência e criando pastas:\n",
    "import os.path\n",
    "\n",
    "if(not os.path.exists('Desafio')):\n",
    "    os.mkdir('Desafio')\n",
    "    print('Feito✅')\n",
    "else:\n",
    "    print('Pasta já existente❌')\n",
    "    \n",
    "if(not os.path.exists('Desafio\\\\Projeto')):\n",
    "    os.mkdir('Desafio\\\\Projeto')\n",
    "    print('Feito✅')\n",
    "else:\n",
    "    print('Pasta já existente❌')"
   ]
  },
  {
   "cell_type": "code",
   "execution_count": 114,
   "metadata": {},
   "outputs": [
    {
     "name": "stdout",
     "output_type": "stream",
     "text": [
      "Arquivo já existente❌\n"
     ]
    }
   ],
   "source": [
    "# verificando existência e criando arquivos:\n",
    "if(not os.path.exists('Desafio\\\\Projeto\\\\arquivo.txt')):\n",
    "    os.mkdir('Desafio\\\\Projeto\\\\arquivo.txt')\n",
    "    print('Feito✅')\n",
    "else:\n",
    "    print('Arquivo já existente❌')"
   ]
  }
 ],
 "metadata": {
  "kernelspec": {
   "display_name": "Python 3.10.7 64-bit",
   "language": "python",
   "name": "python3"
  },
  "language_info": {
   "codemirror_mode": {
    "name": "ipython",
    "version": 3
   },
   "file_extension": ".py",
   "mimetype": "text/x-python",
   "name": "python",
   "nbconvert_exporter": "python",
   "pygments_lexer": "ipython3",
   "version": "3.10.7"
  },
  "orig_nbformat": 4,
  "vscode": {
   "interpreter": {
    "hash": "0f4aad36e1a7834f44c14e84b98527cfbefef55e7a336cfec74130d804d73c8f"
   }
  }
 },
 "nbformat": 4,
 "nbformat_minor": 2
}
