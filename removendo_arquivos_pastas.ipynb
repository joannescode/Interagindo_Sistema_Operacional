{
 "cells": [
  {
   "cell_type": "code",
   "execution_count": 1,
   "metadata": {},
   "outputs": [
    {
     "data": {
      "text/plain": [
       "'Windows'"
      ]
     },
     "execution_count": 1,
     "metadata": {},
     "output_type": "execute_result"
    }
   ],
   "source": [
    "# importando biblioteca OS e verificando sistema operacional:\n",
    "import os\n",
    "os.name # nt\n",
    "import platform\n",
    "platform.system()\n",
    "if(A == 'Windows'):\n",
    "    print('Melhor SO!')"
   ]
  },
  {
   "cell_type": "code",
   "execution_count": 19,
   "metadata": {},
   "outputs": [],
   "source": [
    "os.mkdir('A')"
   ]
  },
  {
   "cell_type": "code",
   "execution_count": 20,
   "metadata": {},
   "outputs": [],
   "source": [
    "# criando pasta dentro da pasta principal:\n",
    "os.mkdir('A\\\\B')\n",
    "os.mkdir('A\\\\C')\n",
    "os.mkdir('A\\\\D')"
   ]
  },
  {
   "cell_type": "code",
   "execution_count": 23,
   "metadata": {},
   "outputs": [],
   "source": [
    "os.makedirs('A\\\\B\\\\arquivo.txt')"
   ]
  },
  {
   "cell_type": "code",
   "execution_count": 24,
   "metadata": {},
   "outputs": [],
   "source": [
    "# para remoção de arquivos utilizamos o **shutil.rmtree** passando a localização do arquivo por parâmetro\n",
    "import shutil\n",
    "shutil.rmtree('A\\\\B\\\\arquivo.txt')"
   ]
  },
  {
   "cell_type": "code",
   "execution_count": 25,
   "metadata": {},
   "outputs": [],
   "source": [
    "# para remoção de pastas utilizamos o **os.removedirs()** passando a localização do arquivo por parâmetro\n",
    "# o comando **os.removedirs** não funciona com pastas contendo arquivos dentro:\n",
    "os.removedirs('A\\\\D')"
   ]
  },
  {
   "cell_type": "code",
   "execution_count": 26,
   "metadata": {},
   "outputs": [],
   "source": [
    "# remoção de pastas com arquivos usamos o comando **shutil.rmtree() passando por parâmetro a localização da pasta:\n",
    "shutil.rmtree('A')"
   ]
  }
 ],
 "metadata": {
  "kernelspec": {
   "display_name": "Python 3.10.7 64-bit",
   "language": "python",
   "name": "python3"
  },
  "language_info": {
   "codemirror_mode": {
    "name": "ipython",
    "version": 3
   },
   "file_extension": ".py",
   "mimetype": "text/x-python",
   "name": "python",
   "nbconvert_exporter": "python",
   "pygments_lexer": "ipython3",
   "version": "3.10.7"
  },
  "orig_nbformat": 4,
  "vscode": {
   "interpreter": {
    "hash": "0f4aad36e1a7834f44c14e84b98527cfbefef55e7a336cfec74130d804d73c8f"
   }
  }
 },
 "nbformat": 4,
 "nbformat_minor": 2
}
